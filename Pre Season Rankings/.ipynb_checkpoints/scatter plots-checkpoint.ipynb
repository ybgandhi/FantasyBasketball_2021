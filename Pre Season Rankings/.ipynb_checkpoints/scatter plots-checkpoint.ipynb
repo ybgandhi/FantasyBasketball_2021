{
 "cells": [
  {
   "cell_type": "code",
   "execution_count": null,
   "id": "6841976e",
   "metadata": {},
   "outputs": [],
   "source": [
    "# Dependencies\n",
    "import matplotlib.pyplot as plt\n",
    "import numpy as np\n",
    "import pandas as pd"
   ]
  },
  {
   "cell_type": "code",
   "execution_count": null,
   "id": "ac88f5a2",
   "metadata": {},
   "outputs": [],
   "source": [
    "# Load in csv\n",
    "preseason_df = pd.read_csv(\"../Pre Season Rankings/2021_Overall_Preseason_Rankings.csv\")\n",
    "preseason_df.head()"
   ]
  }
 ],
 "metadata": {
  "kernelspec": {
   "display_name": "Python 3",
   "language": "python",
   "name": "python3"
  },
  "language_info": {
   "codemirror_mode": {
    "name": "ipython",
    "version": 3
   },
   "file_extension": ".py",
   "mimetype": "text/x-python",
   "name": "python",
   "nbconvert_exporter": "python",
   "pygments_lexer": "ipython3",
   "version": "3.8.8"
  }
 },
 "nbformat": 4,
 "nbformat_minor": 5
}
